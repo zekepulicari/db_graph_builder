{
 "cells": [
  {
   "cell_type": "markdown",
   "id": "de38eb5d",
   "metadata": {},
   "source": [
    "# Statistical analysis of topological variables"
   ]
  },
  {
   "cell_type": "markdown",
   "id": "559f7974",
   "metadata": {},
   "source": [
    "##### Import Modules"
   ]
  },
  {
   "cell_type": "code",
   "execution_count": 3,
   "id": "1cb48762",
   "metadata": {},
   "outputs": [],
   "source": [
    "import pandas as pd\n",
    "import matplotlib.pyplot as plt\n",
    "import seaborn as sns\n",
    "import scipy.stats as stats\n",
    "import scikit_posthocs as sp\n",
    "from statsmodels.stats.multicomp import pairwise_tukeyhsd"
   ]
  },
  {
   "cell_type": "markdown",
   "id": "1889f982",
   "metadata": {},
   "source": [
    "##### Read the dataframes holding the topological values of each network and convert each dataframe to long format\n",
    "This makes it easier to perform statistical analysis and plotting by having one column for treatment and one for value."
   ]
  },
  {
   "cell_type": "code",
   "execution_count": 15,
   "id": "b72e7594",
   "metadata": {},
   "outputs": [
    {
     "name": "stdout",
     "output_type": "stream",
     "text": [
      "\n",
      "Neighborhood Connectivity\n",
      "  treatment  value\n",
      "0        AN    2.0\n",
      "1        AN    1.0\n",
      "2        AN    1.0\n",
      "3        AN    3.0\n",
      "4        AN    2.0\n",
      "\n",
      "Closeness Centrality\n",
      "  treatment  value\n",
      "0        AN    0.0\n",
      "1        AN    0.0\n",
      "2        AN    1.0\n",
      "3        AN    0.6\n",
      "4        AN    0.0\n",
      "\n",
      "Clustering Coefficient\n",
      "  treatment  value\n",
      "0        AN    0.0\n",
      "1        AN    0.0\n",
      "2        AN    0.0\n",
      "3        AN    0.0\n",
      "4        AN    0.0\n"
     ]
    }
   ],
   "source": [
    "# Load the datasets with titles for better tracking\n",
    "files = {\n",
    "    \"Neighborhood Connectivity\": \"outputs/neighborhood_connectivity_all_treat.csv\",\n",
    "    \"Closeness Centrality\": \"outputs/closeness_centrality_all_treat.csv\",\n",
    "    \"Clustering Coefficient\": \"outputs/clustering_coefficient_all_treat.csv\"\n",
    "}\n",
    "\n",
    "dfs = {name: pd.read_csv(path, sep= '\\t') for name, path in files.items()}\n",
    "\n",
    "# Change to long format to better analyze the information\n",
    "dfs_long = {\n",
    "    name: df.melt(var_name= \"treatment\", value_name= \"value\").dropna()\n",
    "    for name, df in dfs.items()\n",
    "}\n",
    "\n",
    "# See head of each dataframe\n",
    "for name, df in dfs_long.items():\n",
    "    print(f\"\\n{name}\")\n",
    "    print(df.head())"
   ]
  },
  {
   "cell_type": "markdown",
   "id": "2e6ece11",
   "metadata": {},
   "source": [
    "##### Define a function to perform statistical tests\n",
    "- Checks normality and variance. \n",
    "- Uses ANOVA with Tukey posthoc if assumptions (ones above) are met.\n",
    "- Uses Kruskal–Wallis with Dunn posthoc otherwise."
   ]
  },
  {
   "cell_type": "code",
   "execution_count": null,
   "id": "0f6bd982",
   "metadata": {},
   "outputs": [],
   "source": [
    "def run_stats(df, feature_name):\n",
    "\n",
    "    # Get the treatment groups\n",
    "    treatments = df[\"treatment\"].unique()\n",
    "    groups = []\n",
    "    for t in treatments:\n",
    "        group_values = df.loc[df[\"treatment\"] == t, \"value\"].values\n",
    "        groups.append(group_values)\n",
    "\n",
    "    # Check assumptions to define best test later\n",
    "    normality_results = []\n",
    "    for g in groups:\n",
    "        if len(g) > 3:  # Shapiro needs a minimum of 3 values\n",
    "            stat, pval = stats.shapiro(g)\n",
    "            normality_results.append(pval > 0.05) # Store values > 0.05\n",
    "        else:\n",
    "            # Too small for a real test, assume normality of data\n",
    "            normality_results.append(True)\n",
    "\n",
    "    # Overall normality = True only if all groups are normal\n",
    "    normality = all(normality_results)\n",
    "\n",
    "    # Levene test for equal variances of groups\n",
    "    lev_stat, lev_pval = stats.levene(*groups)\n",
    "    equal_var = lev_pval > 0.05\n",
    "\n",
    "    # Pick the main test of the groups in general and taking into account the assumptions\n",
    "    if normality and equal_var: # if both assumptions are met\n",
    "        # Parametric: one-way ANOVA\n",
    "        f_stat, p_val = stats.f_oneway(*groups)\n",
    "        test_used = \"ANOVA\"\n",
    "\n",
    "        # Posthoc: Tukey test to see which groups differ\n",
    "        posthoc = pairwise_tukeyhsd(\n",
    "            endog= df[\"value\"],\n",
    "            groups= df[\"treatment\"],\n",
    "            alpha= 0.05\n",
    "        )\n",
    "        posthoc_df = pd.DataFrame(\n",
    "            posthoc.summary().data[1:],  # Skip header row\n",
    "            columns= posthoc.summary().data[0]\n",
    "        )\n",
    "\n",
    "    else: # if any assumption is not met\n",
    "        # Non-parametric: Kruskal-Wallis to compare medians\n",
    "        f_stat, p_val = stats.kruskal(*groups)\n",
    "        test_used = \"Kruskal–Wallis\"\n",
    "\n",
    "        # Posthoc: Dunn’s test to see which groups differ\n",
    "        posthoc_df = sp.posthoc_dunn(\n",
    "            df,\n",
    "            val_col= \"value\",\n",
    "            group_col= \"treatment\",\n",
    "            p_adjust= \"bonferroni\"\n",
    "        )\n",
    "\n",
    "    # Prepare a summary to show the results\n",
    "    summary = {\n",
    "        \"feature\": feature_name,\n",
    "        \"test\": test_used,\n",
    "        \"statistic\": f_stat,\n",
    "        \"p_value\": p_val\n",
    "    }\n",
    "\n",
    "    return summary, posthoc_df\n"
   ]
  },
  {
   "cell_type": "markdown",
   "id": "e22c3dfe",
   "metadata": {},
   "source": [
    "##### Run the statistical tests for each feature and collect the results.\n",
    "Results are stored in a summary dataframe and posthoc results are kept for later inspection"
   ]
  },
  {
   "cell_type": "code",
   "execution_count": 27,
   "id": "a28142b2",
   "metadata": {},
   "outputs": [
    {
     "data": {
      "text/html": [
       "<div>\n",
       "<style scoped>\n",
       "    .dataframe tbody tr th:only-of-type {\n",
       "        vertical-align: middle;\n",
       "    }\n",
       "\n",
       "    .dataframe tbody tr th {\n",
       "        vertical-align: top;\n",
       "    }\n",
       "\n",
       "    .dataframe thead th {\n",
       "        text-align: right;\n",
       "    }\n",
       "</style>\n",
       "<table border=\"1\" class=\"dataframe\">\n",
       "  <thead>\n",
       "    <tr style=\"text-align: right;\">\n",
       "      <th></th>\n",
       "      <th>feature</th>\n",
       "      <th>test</th>\n",
       "      <th>statistic</th>\n",
       "      <th>p_value</th>\n",
       "    </tr>\n",
       "  </thead>\n",
       "  <tbody>\n",
       "    <tr>\n",
       "      <th>0</th>\n",
       "      <td>Neighborhood Connectivity</td>\n",
       "      <td>Kruskal–Wallis</td>\n",
       "      <td>1.300022</td>\n",
       "      <td>0.522040</td>\n",
       "    </tr>\n",
       "    <tr>\n",
       "      <th>1</th>\n",
       "      <td>Closeness Centrality</td>\n",
       "      <td>Kruskal–Wallis</td>\n",
       "      <td>15.735507</td>\n",
       "      <td>0.000383</td>\n",
       "    </tr>\n",
       "    <tr>\n",
       "      <th>2</th>\n",
       "      <td>Clustering Coefficient</td>\n",
       "      <td>Kruskal–Wallis</td>\n",
       "      <td>6.551141</td>\n",
       "      <td>0.037795</td>\n",
       "    </tr>\n",
       "  </tbody>\n",
       "</table>\n",
       "</div>"
      ],
      "text/plain": [
       "                     feature            test  statistic   p_value\n",
       "0  Neighborhood Connectivity  Kruskal–Wallis   1.300022  0.522040\n",
       "1       Closeness Centrality  Kruskal–Wallis  15.735507  0.000383\n",
       "2     Clustering Coefficient  Kruskal–Wallis   6.551141  0.037795"
      ]
     },
     "metadata": {},
     "output_type": "display_data"
    },
    {
     "name": "stdout",
     "output_type": "stream",
     "text": [
      "\n",
      "Posthoc results for Neighborhood Connectivity:\n"
     ]
    },
    {
     "data": {
      "text/html": [
       "<div>\n",
       "<style scoped>\n",
       "    .dataframe tbody tr th:only-of-type {\n",
       "        vertical-align: middle;\n",
       "    }\n",
       "\n",
       "    .dataframe tbody tr th {\n",
       "        vertical-align: top;\n",
       "    }\n",
       "\n",
       "    .dataframe thead th {\n",
       "        text-align: right;\n",
       "    }\n",
       "</style>\n",
       "<table border=\"1\" class=\"dataframe\">\n",
       "  <thead>\n",
       "    <tr style=\"text-align: right;\">\n",
       "      <th></th>\n",
       "      <th>AN</th>\n",
       "      <th>BP</th>\n",
       "      <th>MP</th>\n",
       "    </tr>\n",
       "  </thead>\n",
       "  <tbody>\n",
       "    <tr>\n",
       "      <th>AN</th>\n",
       "      <td>1.00000</td>\n",
       "      <td>1.0</td>\n",
       "      <td>0.77112</td>\n",
       "    </tr>\n",
       "    <tr>\n",
       "      <th>BP</th>\n",
       "      <td>1.00000</td>\n",
       "      <td>1.0</td>\n",
       "      <td>1.00000</td>\n",
       "    </tr>\n",
       "    <tr>\n",
       "      <th>MP</th>\n",
       "      <td>0.77112</td>\n",
       "      <td>1.0</td>\n",
       "      <td>1.00000</td>\n",
       "    </tr>\n",
       "  </tbody>\n",
       "</table>\n",
       "</div>"
      ],
      "text/plain": [
       "         AN   BP       MP\n",
       "AN  1.00000  1.0  0.77112\n",
       "BP  1.00000  1.0  1.00000\n",
       "MP  0.77112  1.0  1.00000"
      ]
     },
     "metadata": {},
     "output_type": "display_data"
    },
    {
     "name": "stdout",
     "output_type": "stream",
     "text": [
      "\n",
      "Posthoc results for Closeness Centrality:\n"
     ]
    },
    {
     "data": {
      "text/html": [
       "<div>\n",
       "<style scoped>\n",
       "    .dataframe tbody tr th:only-of-type {\n",
       "        vertical-align: middle;\n",
       "    }\n",
       "\n",
       "    .dataframe tbody tr th {\n",
       "        vertical-align: top;\n",
       "    }\n",
       "\n",
       "    .dataframe thead th {\n",
       "        text-align: right;\n",
       "    }\n",
       "</style>\n",
       "<table border=\"1\" class=\"dataframe\">\n",
       "  <thead>\n",
       "    <tr style=\"text-align: right;\">\n",
       "      <th></th>\n",
       "      <th>AN</th>\n",
       "      <th>BP</th>\n",
       "      <th>MP</th>\n",
       "    </tr>\n",
       "  </thead>\n",
       "  <tbody>\n",
       "    <tr>\n",
       "      <th>AN</th>\n",
       "      <td>1.000000</td>\n",
       "      <td>0.000328</td>\n",
       "      <td>0.027786</td>\n",
       "    </tr>\n",
       "    <tr>\n",
       "      <th>BP</th>\n",
       "      <td>0.000328</td>\n",
       "      <td>1.000000</td>\n",
       "      <td>0.567313</td>\n",
       "    </tr>\n",
       "    <tr>\n",
       "      <th>MP</th>\n",
       "      <td>0.027786</td>\n",
       "      <td>0.567313</td>\n",
       "      <td>1.000000</td>\n",
       "    </tr>\n",
       "  </tbody>\n",
       "</table>\n",
       "</div>"
      ],
      "text/plain": [
       "          AN        BP        MP\n",
       "AN  1.000000  0.000328  0.027786\n",
       "BP  0.000328  1.000000  0.567313\n",
       "MP  0.027786  0.567313  1.000000"
      ]
     },
     "metadata": {},
     "output_type": "display_data"
    },
    {
     "name": "stdout",
     "output_type": "stream",
     "text": [
      "\n",
      "Posthoc results for Clustering Coefficient:\n"
     ]
    },
    {
     "data": {
      "text/html": [
       "<div>\n",
       "<style scoped>\n",
       "    .dataframe tbody tr th:only-of-type {\n",
       "        vertical-align: middle;\n",
       "    }\n",
       "\n",
       "    .dataframe tbody tr th {\n",
       "        vertical-align: top;\n",
       "    }\n",
       "\n",
       "    .dataframe thead th {\n",
       "        text-align: right;\n",
       "    }\n",
       "</style>\n",
       "<table border=\"1\" class=\"dataframe\">\n",
       "  <thead>\n",
       "    <tr style=\"text-align: right;\">\n",
       "      <th></th>\n",
       "      <th>AN</th>\n",
       "      <th>BP</th>\n",
       "      <th>MP</th>\n",
       "    </tr>\n",
       "  </thead>\n",
       "  <tbody>\n",
       "    <tr>\n",
       "      <th>AN</th>\n",
       "      <td>1.00000</td>\n",
       "      <td>0.040320</td>\n",
       "      <td>1.000000</td>\n",
       "    </tr>\n",
       "    <tr>\n",
       "      <th>BP</th>\n",
       "      <td>0.04032</td>\n",
       "      <td>1.000000</td>\n",
       "      <td>0.176914</td>\n",
       "    </tr>\n",
       "    <tr>\n",
       "      <th>MP</th>\n",
       "      <td>1.00000</td>\n",
       "      <td>0.176914</td>\n",
       "      <td>1.000000</td>\n",
       "    </tr>\n",
       "  </tbody>\n",
       "</table>\n",
       "</div>"
      ],
      "text/plain": [
       "         AN        BP        MP\n",
       "AN  1.00000  0.040320  1.000000\n",
       "BP  0.04032  1.000000  0.176914\n",
       "MP  1.00000  0.176914  1.000000"
      ]
     },
     "metadata": {},
     "output_type": "display_data"
    }
   ],
   "source": [
    "summary = []\n",
    "posthoc_results = {}\n",
    "\n",
    "for feature_name, df in dfs_long.items():\n",
    "    res, posthoc = run_stats(df, feature_name)\n",
    "    summary.append(res)\n",
    "    posthoc_results[feature_name] = posthoc\n",
    "\n",
    "summary_df = pd.DataFrame(summary)\n",
    "display(summary_df)\n",
    "\n",
    "# Display posthoc results for each feature\n",
    "for feature_name, posthoc in posthoc_results.items():\n",
    "    print(f\"\\nPosthoc results for {feature_name}:\")\n",
    "    display(posthoc)\n"
   ]
  },
  {
   "cell_type": "markdown",
   "id": "6fa68971",
   "metadata": {},
   "source": [
    "We compared the distribution of three network topological metrics across treatments (AN, BP, MP). To determine if treatments showed significant differences, we first checked normality and variance homogeneity. Since assumptions were not fully met, we used the Kruskal–Wallis test (non-parametric alternative to ANOVA). (This is also in README.md)\n",
    "\n",
    "- Neighborhood Connectivity\n",
    "All p-values > 0.05. There are no statistically significant differences in Neighborhood Connectivity between any pair of treatments (AN, BP, MP).\n",
    "\n",
    "- Closeness Centrality\n",
    "AN is significantly different from both BP and MP in Closeness Centrality. BP and MP are not significantly different from each other.\n",
    "\n",
    "- Clustering Coefficient\n",
    "AN is significantly different from BP in Clustering Coefficient.\n",
    "AN and MP, BP and MP are not significantly different from each other."
   ]
  }
 ],
 "metadata": {
  "kernelspec": {
   "display_name": "Python (graph_env)",
   "language": "python",
   "name": "graph_env"
  },
  "language_info": {
   "codemirror_mode": {
    "name": "ipython",
    "version": 3
   },
   "file_extension": ".py",
   "mimetype": "text/x-python",
   "name": "python",
   "nbconvert_exporter": "python",
   "pygments_lexer": "ipython3",
   "version": "3.13.7"
  }
 },
 "nbformat": 4,
 "nbformat_minor": 5
}
